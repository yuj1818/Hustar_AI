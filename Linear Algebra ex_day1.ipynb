{
 "cells": [
  {
   "cell_type": "code",
   "execution_count": 2,
   "id": "ac7e3c4c",
   "metadata": {},
   "outputs": [],
   "source": [
    "import numpy as np"
   ]
  },
  {
   "cell_type": "markdown",
   "id": "79018095",
   "metadata": {},
   "source": [
    "## ex1"
   ]
  },
  {
   "cell_type": "code",
   "execution_count": 4,
   "id": "1c94c408",
   "metadata": {},
   "outputs": [
    {
     "name": "stdout",
     "output_type": "stream",
     "text": [
      "[[ 2.61111111]\n",
      " [ 2.53703704]\n",
      " [-3.2037037 ]]\n"
     ]
    }
   ],
   "source": [
    "A = np.array([[7,-2,1],[-1,3,0],[8,-2,4]])\n",
    "b = np.array([[10],[5],[3]])\n",
    "\n",
    "x = np.linalg.inv(A).dot(b)\n",
    "print(x)"
   ]
  },
  {
   "cell_type": "markdown",
   "id": "d8189d2d",
   "metadata": {},
   "source": [
    "## ex2"
   ]
  },
  {
   "cell_type": "code",
   "execution_count": 5,
   "id": "c58fea2f",
   "metadata": {},
   "outputs": [
    {
     "name": "stdout",
     "output_type": "stream",
     "text": [
      "[[5]]\n"
     ]
    }
   ],
   "source": [
    "x = np.array([[1],[1]])\n",
    "y = np.array([[2],[3]])\n",
    "\n",
    "print(x.T.dot(y))"
   ]
  },
  {
   "cell_type": "markdown",
   "id": "e4b69d44",
   "metadata": {},
   "source": [
    "## ex4"
   ]
  },
  {
   "cell_type": "code",
   "execution_count": 7,
   "id": "5534fc96",
   "metadata": {},
   "outputs": [
    {
     "name": "stdout",
     "output_type": "stream",
     "text": [
      "[[ 0.52307692]\n",
      " [-0.2       ]]\n"
     ]
    }
   ],
   "source": [
    "A = np.matrix([[4,1],[3,2],[1,3]])\n",
    "B = np.matrix([[2],[1],[0]])\n",
    "\n",
    "X = (A.T*A).I*A.T*B\n",
    "print(X)"
   ]
  }
 ],
 "metadata": {
  "kernelspec": {
   "display_name": "Python 3 (ipykernel)",
   "language": "python",
   "name": "python3"
  },
  "language_info": {
   "codemirror_mode": {
    "name": "ipython",
    "version": 3
   },
   "file_extension": ".py",
   "mimetype": "text/x-python",
   "name": "python",
   "nbconvert_exporter": "python",
   "pygments_lexer": "ipython3",
   "version": "3.9.7"
  }
 },
 "nbformat": 4,
 "nbformat_minor": 5
}
